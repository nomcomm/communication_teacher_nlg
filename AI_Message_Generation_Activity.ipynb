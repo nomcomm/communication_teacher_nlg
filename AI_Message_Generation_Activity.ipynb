{
 "cells": [
  {
   "cell_type": "markdown",
   "metadata": {
    "id": "B_SGAG8dnjOS"
   },
   "source": [
    "# This \n",
    "\n",
    "## by: Sue Lim\n",
    "\n"
   ]
  },
  {
   "cell_type": "code",
   "execution_count": null,
   "metadata": {
    "colab": {
     "background_save": true
    },
    "id": "MM72TwoGFpeW"
   },
   "outputs": [],
   "source": [
    "#Install transformers library\n",
    "#Import the needed packages from the libraries\n",
    "!pip install transformers\n",
    "import transformers\n",
    "from transformers import BloomForCausalLM, BloomTokenizerFast\n",
    "import torch"
   ]
  },
  {
   "cell_type": "code",
   "execution_count": null,
   "metadata": {
    "id": "9CeX7UQ9NC3U"
   },
   "outputs": [],
   "source": [
    "#Import the chosen bloom model. There are many different sizes of the Bloom model\n",
    "#available in the HuggingFace website. bloom-560m is the smallest version of the model.\n",
    "tokenizer = BloomTokenizerFast.from_pretrained(\"bigscience/bloom-560m\")\n",
    "bloom = BloomForCausalLM.from_pretrained(\"bigscience/bloom-560m\")"
   ]
  },
  {
   "cell_type": "markdown",
   "metadata": {
    "id": "kA5L8qPbYXmi"
   },
   "source": [
    "## Message generation\n",
    "\n",
    "Now we are ready to generate vaping messages."
   ]
  },
  {
   "cell_type": "code",
   "execution_count": null,
   "metadata": {
    "id": "b4L_qQc8mnWF"
   },
   "outputs": [],
   "source": [
    "#Need to mount google drive to goole colab to be able to save AI-generated messages to google drive.\n",
    "\n",
    "from google.colab import drive\n",
    "drive.mount('/content/drive')"
   ]
  },
  {
   "cell_type": "code",
   "execution_count": null,
   "metadata": {
    "id": "yQi6wSOV04BU"
   },
   "outputs": [],
   "source": [
    "#Import the necessary packages to generate messages\n",
    "\n",
    "import pandas as pd\n",
    "import os"
   ]
  },
  {
   "cell_type": "code",
   "execution_count": null,
   "metadata": {
    "id": "nWQKWJdPp9bj"
   },
   "outputs": [],
   "source": [
    "prompt = \"It's National Folic Acid Awareness week\"\n",
    "result_length = 60\n",
    "inputs = tokenizer(prompt, return_tensors=\"pt\")"
   ]
  },
  {
   "cell_type": "code",
   "execution_count": null,
   "metadata": {
    "id": "Exz8G1dnsB7i"
   },
   "outputs": [],
   "source": [
    "sample_outputs = bloom.generate(inputs[\"input_ids\"],\n",
    "                       max_length=result_length, \n",
    "                       temperature = 0.7,\n",
    "                       do_sample=True, \n",
    "                       top_k=40, \n",
    "                       top_p=0.9,\n",
    "                       num_return_sequences=40\n",
    "                      )\n",
    "\n",
    "print(\"Output:\\n\" + 100 * '-')\n",
    "messages = []\n",
    "for i, sample_output in enumerate(sample_outputs):\n",
    "  generated_messages = tokenizer.decode(sample_output, skip_special_tokens=True)\n",
    "  print(\"{}: {}\".format(i, generated_messages))\n",
    "  messages.append(generated_messages)\n",
    "\n",
    "print(messages)"
   ]
  },
  {
   "cell_type": "code",
   "execution_count": null,
   "metadata": {
    "id": "kyu9P0CYd2tA"
   },
   "outputs": [],
   "source": [
    "#We save the AI-generated messages to google drive. \n",
    "AI_messages = pd.DataFrame(messages, columns = ['tweet'])\n",
    "AI_messages.to_csv('Benefits of vaping.csv', index = False)"
   ]
  },
  {
   "cell_type": "code",
   "execution_count": null,
   "metadata": {
    "id": "fkoFBhGJsp8y"
   },
   "outputs": [],
   "source": [
    "#Then generate another 50 messages with prompt1 and then save to google drive.\n",
    "\n",
    "AI_messages = pd.DataFrame(messages, columns = ['tweet'])\n",
    "AI_messages.to_csv('Benefits of vaping.csv', index = False)"
   ]
  },
  {
   "cell_type": "markdown",
   "metadata": {
    "id": "s4is6USFvxVP"
   },
   "source": [
    "You will find the csv files with the AI-generated messages by clicking on the folder icon on the left menu bar (4th icon; see picture below):\n",
    "\n",
    "\n",
    "\n",
    "![image.png](data:image/png;base64,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)\n",
    "\n",
    "\n",
    "Download the 2 csv files, save them into the data -> 01_AI_generated_messages -> Nicotine in vapes folder. "
   ]
  },
  {
   "cell_type": "markdown",
   "metadata": {
    "id": "5KM_22gtEZYe"
   },
   "source": [
    "Let's continue generating messages with the next prompt. "
   ]
  },
  {
   "cell_type": "code",
   "execution_count": null,
   "metadata": {
    "id": "eMupDJpTD-GD"
   },
   "outputs": [],
   "source": [
    "#This prompt is from message 2. #The goal is to generate 100 messages per prompt. \n",
    "\n",
    "prompt2 = \"Vaping is risky\"\n",
    "\n",
    "#Below, we specify to use pytorch machine learning framework. \n",
    "#You can also choose Tensorflow, but we use Pytorch here.\n",
    "\n",
    "inputs = tokenizer(prompt2, return_tensors=\"pt\")"
   ]
  },
  {
   "cell_type": "code",
   "execution_count": null,
   "metadata": {
    "id": "Iiog6NS6EGLQ"
   },
   "outputs": [],
   "source": [
    "#We generate 50 messages each time due to restrictions in Ram storage. \n",
    "\n",
    "sample_outputs = bloom.generate(inputs[\"input_ids\"],\n",
    "                       temperature = 0.7,\n",
    "                       max_new_tokens = 60,\n",
    "                       do_sample=True,\n",
    "                       top_k=40, \n",
    "                       top_p=0.9,\n",
    "                       num_return_sequences=50\n",
    "                      )\n",
    "\n",
    "print(\"Output:\\n\" + 100 * '-')\n",
    "messages = []\n",
    "for i, sample_output in enumerate(sample_outputs):\n",
    "  generated_messages = tokenizer.decode(sample_output, skip_special_tokens=True)\n",
    "  print(\"{}: {}\".format(i, generated_messages))\n",
    "  messages.append(generated_messages)\n",
    "\n",
    "print(messages)"
   ]
  },
  {
   "cell_type": "code",
   "execution_count": null,
   "metadata": {
    "id": "FDntS25kEJrg"
   },
   "outputs": [],
   "source": [
    "#We save the AI-generated messages to google drive. \n",
    "\n",
    "AI_messages = pd.DataFrame(messages, columns = ['tweet'])\n",
    "AI_messages.to_csv('Vaping is risky1.csv', index = False)"
   ]
  },
  {
   "cell_type": "code",
   "execution_count": null,
   "metadata": {
    "id": "uHwQKDsHEMcn"
   },
   "outputs": [],
   "source": [
    "#Then generate another 50 messages with prompt1 and then save to google drive.\n",
    "\n",
    "AI_messages = pd.DataFrame(messages, columns = ['tweet'])\n",
    "AI_messages.to_csv('Vaping is risky2.csv', index = False)"
   ]
  },
  {
   "cell_type": "code",
   "execution_count": null,
   "metadata": {
    "id": "UcDk8ga2IOew"
   },
   "outputs": [],
   "source": [
    "#This prompt is from message 3. #The goal is to generate 100 messages per prompt. \n",
    "\n",
    "prompt3 = \"Vapes and e-cigarettes increase your risk\"\n",
    "\n",
    "#Below, we specify to use pytorch machine learning framework. \n",
    "#You can also choose Tensorflow, but we use Pytorch here.\n",
    "\n",
    "inputs = tokenizer(prompt3, return_tensors=\"pt\")"
   ]
  },
  {
   "cell_type": "code",
   "execution_count": null,
   "metadata": {
    "id": "6lAZlh0wIlat"
   },
   "outputs": [],
   "source": [
    "#We generate 50 messages each time due to restrictions in Ram storage. \n",
    "\n",
    "sample_outputs = bloom.generate(inputs[\"input_ids\"],\n",
    "                       temperature = 0.7,\n",
    "                       max_new_tokens = 60,\n",
    "                       do_sample=True,\n",
    "                       top_k=40, \n",
    "                       top_p=0.9,\n",
    "                       num_return_sequences=50\n",
    "                      )\n",
    "\n",
    "print(\"Output:\\n\" + 100 * '-')\n",
    "messages = []\n",
    "for i, sample_output in enumerate(sample_outputs):\n",
    "  generated_messages = tokenizer.decode(sample_output, skip_special_tokens=True)\n",
    "  print(\"{}: {}\".format(i, generated_messages))\n",
    "  messages.append(generated_messages)\n",
    "\n",
    "print(messages)"
   ]
  },
  {
   "cell_type": "code",
   "execution_count": null,
   "metadata": {
    "id": "slDspcjmIuqq"
   },
   "outputs": [],
   "source": [
    "#We save the AI-generated messages to google drive. \n",
    "\n",
    "AI_messages = pd.DataFrame(messages, columns = ['tweet'])\n",
    "AI_messages.to_csv('Vapes and e-cigarettes increase your risk1.csv', index = False)"
   ]
  },
  {
   "cell_type": "code",
   "execution_count": null,
   "metadata": {
    "id": "41jC9A3XIzwb"
   },
   "outputs": [],
   "source": [
    "#We save the AI-generated messages to google drive. \n",
    "\n",
    "AI_messages = pd.DataFrame(messages, columns = ['tweet'])\n",
    "AI_messages.to_csv('Vapes and e-cigarettes increase your risk2.csv', index = False)"
   ]
  },
  {
   "cell_type": "code",
   "execution_count": null,
   "metadata": {
    "id": "LwdL7FzHMSE5"
   },
   "outputs": [],
   "source": [
    "#This prompt is from message 4. #The goal is to generate 100 messages per prompt. \n",
    "\n",
    "prompt4 = \"Vaping is anything but harmless\"\n",
    "\n",
    "#Below, we specify to use pytorch machine learning framework. \n",
    "#You can also choose Tensorflow, but we use Pytorch here.\n",
    "\n",
    "inputs = tokenizer(prompt4, return_tensors=\"pt\")"
   ]
  },
  {
   "cell_type": "code",
   "execution_count": null,
   "metadata": {
    "id": "d8_Y8xR7Mcl0"
   },
   "outputs": [],
   "source": [
    "#We generate 50 messages each time due to restrictions in Ram storage. \n",
    "\n",
    "sample_outputs = bloom.generate(inputs[\"input_ids\"],\n",
    "                       temperature = 0.7,\n",
    "                       max_new_tokens = 60,\n",
    "                       do_sample=True,\n",
    "                       top_k=40, \n",
    "                       top_p=0.9,\n",
    "                       num_return_sequences=50\n",
    "                      )\n",
    "\n",
    "print(\"Output:\\n\" + 100 * '-')\n",
    "messages = []\n",
    "for i, sample_output in enumerate(sample_outputs):\n",
    "  generated_messages = tokenizer.decode(sample_output, skip_special_tokens=True)\n",
    "  print(\"{}: {}\".format(i, generated_messages))\n",
    "  messages.append(generated_messages)\n",
    "\n",
    "print(messages)"
   ]
  },
  {
   "cell_type": "code",
   "execution_count": null,
   "metadata": {
    "id": "U-lkWJJaMgv-"
   },
   "outputs": [],
   "source": [
    "#We save the AI-generated messages to google drive. \n",
    "\n",
    "AI_messages = pd.DataFrame(messages, columns = ['tweet'])\n",
    "AI_messages.to_csv('Vaping is anything but harmless1.csv', index = False)"
   ]
  },
  {
   "cell_type": "code",
   "execution_count": null,
   "metadata": {
    "id": "fxE6Fx1sMg8s"
   },
   "outputs": [],
   "source": [
    "#We save the AI-generated messages to google drive. \n",
    "\n",
    "AI_messages = pd.DataFrame(messages, columns = ['tweet'])\n",
    "AI_messages.to_csv('Vaping is anything but harmless2.csv', index = False)"
   ]
  },
  {
   "cell_type": "code",
   "execution_count": null,
   "metadata": {
    "id": "WeVFf9TyQGId"
   },
   "outputs": [],
   "source": [
    "#This prompt is from message 5. #The goal is to generate 100 messages per prompt. \n",
    "\n",
    "prompt5 = \"The substances in e-cigarettes and their vapor include\"\n",
    "\n",
    "#Below, we specify to use pytorch machine learning framework. \n",
    "#You can also choose Tensorflow, but we use Pytorch here.\n",
    "\n",
    "inputs = tokenizer(prompt5, return_tensors=\"pt\")"
   ]
  },
  {
   "cell_type": "code",
   "execution_count": null,
   "metadata": {
    "id": "x6aVIbaCQd97"
   },
   "outputs": [],
   "source": [
    "#We generate 50 messages each time due to restrictions in Ram storage. \n",
    "\n",
    "sample_outputs = bloom.generate(inputs[\"input_ids\"],\n",
    "                       temperature = 0.7,\n",
    "                       max_new_tokens = 60,\n",
    "                       do_sample=True,\n",
    "                       top_k=40, \n",
    "                       top_p=0.9,\n",
    "                       num_return_sequences=50\n",
    "                      )\n",
    "\n",
    "print(\"Output:\\n\" + 100 * '-')\n",
    "messages = []\n",
    "for i, sample_output in enumerate(sample_outputs):\n",
    "  generated_messages = tokenizer.decode(sample_output, skip_special_tokens=True)\n",
    "  print(\"{}: {}\".format(i, generated_messages))\n",
    "  messages.append(generated_messages)\n",
    "\n",
    "print(messages)"
   ]
  },
  {
   "cell_type": "code",
   "execution_count": null,
   "metadata": {
    "id": "vY9hgho_QlM-"
   },
   "outputs": [],
   "source": [
    "#We save the AI-generated messages to google drive. \n",
    "\n",
    "AI_messages = pd.DataFrame(messages, columns = ['tweet'])\n",
    "AI_messages.to_csv('The substances in e-cigarettes and their vapor include1.csv', index = False)"
   ]
  },
  {
   "cell_type": "code",
   "execution_count": null,
   "metadata": {
    "id": "vq7PAZzGQreB"
   },
   "outputs": [],
   "source": [
    "#We save the AI-generated messages to google drive. \n",
    "\n",
    "AI_messages = pd.DataFrame(messages, columns = ['tweet'])\n",
    "AI_messages.to_csv('The substances in e-cigarettes and their vapor include2.csv', index = False)"
   ]
  }
 ],
 "metadata": {
  "colab": {
   "machine_shape": "hm",
   "provenance": []
  },
  "gpuClass": "standard",
  "kernelspec": {
   "display_name": "Python 3 (ipykernel)",
   "language": "python",
   "name": "python3"
  },
  "language_info": {
   "codemirror_mode": {
    "name": "ipython",
    "version": 3
   },
   "file_extension": ".py",
   "mimetype": "text/x-python",
   "name": "python",
   "nbconvert_exporter": "python",
   "pygments_lexer": "ipython3",
   "version": "3.10.9"
  }
 },
 "nbformat": 4,
 "nbformat_minor": 1
}
